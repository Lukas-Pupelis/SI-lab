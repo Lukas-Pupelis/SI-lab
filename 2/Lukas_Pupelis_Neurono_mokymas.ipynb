{
  "cells": [
    {
      "cell_type": "markdown",
      "metadata": {
        "id": "c7trL0bQid-m"
      },
      "source": [
        "**Užduotį atliko:**\n",
        "Lukas Pupelis 2110612"
      ]
    },
    {
      "cell_type": "code",
      "execution_count": 1,
      "metadata": {
        "id": "EsB6c4znxC-g"
      },
      "outputs": [],
      "source": [
        "import numpy as np\n",
        "import pandas as pd\n",
        "from sklearn.utils import shuffle\n",
        "from sklearn.preprocessing import StandardScaler\n",
        "from sklearn.model_selection import train_test_split\n",
        "import matplotlib.pyplot as plt"
      ]
    },
    {
      "cell_type": "markdown",
      "metadata": {},
      "source": [
        "## Dirbtinis neuronas su ADALINE mokymosi taisykle ir SGD"
      ]
    },
    {
      "cell_type": "markdown",
      "metadata": {},
      "source": [
        "Neurono mokymui naudotas stochastinis gradientinis nusileidimas ir ADALINE mokymo taisyklė."
      ]
    },
    {
      "cell_type": "code",
      "execution_count": 2,
      "metadata": {
        "id": "67SpsLs_g7bG"
      },
      "outputs": [],
      "source": [
        "class AdalineSGD:\n",
        "    # Konstruktorius su parametrais: mokymo greitis, epochų skaičius ir atsitiktinių skaičių generatoriaus pradinė padėtis.\n",
        "    def __init__(self, learning_rate=0.01, epochs=50, random_state=10):\n",
        "        self.learning_rate = learning_rate\n",
        "        self.epochs = epochs\n",
        "        self.random_state = random_state # Atsitiktinių skaičių generatoriaus pradinė padėtis\n",
        "        self.weights = None\n",
        "        self.bias = None\n",
        "        self.loss = []\n",
        "        self.accuracy = []\n",
        "\n",
        "    # Mokymo funkcija, kuri atnaujina svorius naudojant stochastinį gradientinį nusileidimą.\n",
        "    def fit(self, X, y, E_min):\n",
        "        rgen = np.random.RandomState(self.random_state) # Sukuriame atsitiktinių skaičių generatorių\n",
        "        self.weights = rgen.normal(loc=0.0, scale=0.01, size=X.shape[1]) # Inicializuojame svorius mažais atsitiktiniais skaičiais\n",
        "        self.bias = 1.\n",
        "        self.loss = []\n",
        "        self.accuracy = []\n",
        "\n",
        "        # Pradedame mokymo procesą, kuris vyks iki nurodyto epochų skaičiaus arba kol pasieksime minimalią paklaidą\n",
        "        for epoch in range(self.epochs):\n",
        "            X, y = shuffle(X, y, random_state=self.random_state)\n",
        "            loss = 0\n",
        "\n",
        "            # Iteruojame per kiekvieną mokymo duomenų pavyzdį\n",
        "            for x, target in zip(X, y):\n",
        "                output = self.neuron_input(x) # Apskaičiuojame neurono išvestį\n",
        "                error = (target - output) # Apskaičiuojame paklaidą\n",
        "                self.weights += self.learning_rate * x.dot(error) # Atnaujiname svorius\n",
        "                self.bias += self.learning_rate * error\n",
        "                loss += 0.5 * error**2 # Skaičiuojame paklaidos kvadratą ir jį pridedame prie bendros paklaidos\n",
        "                \n",
        "\n",
        "            avg_loss = loss / len(y)\n",
        "            self.loss.append(avg_loss)\n",
        "            self.accuracy.append(self.calculate_accuracy(X, y))\n",
        "            if avg_loss <= E_min:  # Jeigu vidutinė paklaida mažesnė ar lygi nustatytam slenksiui, stabdome mokymo procesą\n",
        "                print(f\"Mokymasis sustabdytas {epoch+1} epochoje, nes pasiektas minimalus paklaidos slenkstis.\")\n",
        "                break\n",
        "\n",
        "        return self\n",
        "\n",
        "    # Funkcija, kuri apskaičiuoja bendrą svorių ir įvesties daugybą ir poslinkį.\n",
        "    def neuron_input(self, X):\n",
        "        return np.dot(X, self.weights) + self.bias # sgn\n",
        "\n",
        "    # Prognozavimo funkcija, kuri klasifikuoja pateiktus duomenis kažkuriai klasei\n",
        "    def predict(self, X):\n",
        "        return np.where(self.neuron_input(X) >= 0.5, 1, 0)\n",
        "    \n",
        "    # Funkcija kuri skaičiuoja neurono prognozių tikslumą\n",
        "    def calculate_accuracy(self, X, y):\n",
        "        predictions = self.predict(X)\n",
        "        accuracy = np.mean(predictions == y)\n",
        "        return accuracy\n",
        "    \n",
        "    # Funkcija kuri skaičiuoja neurono prognozių vidutinę kvadratinę paklaidą\n",
        "    def calculate_MSE(self, X, y):\n",
        "        predictions = self.predict(X)\n",
        "        errors = y - predictions\n",
        "        mse = np.mean(errors**2)\n",
        "        return mse"
      ]
    },
    {
      "cell_type": "markdown",
      "metadata": {},
      "source": [
        "## Duomenų užkrovimas ir padalinimas į mokymosi ir testavimo aibes"
      ]
    },
    {
      "cell_type": "code",
      "execution_count": 3,
      "metadata": {},
      "outputs": [],
      "source": [
        "# Funkcija, kuri užkrauna duomenis iš failo ir padalina į mokymosi ir testavimo aibes\n",
        "def load_and_split_data(file_path, test_size=0.3):\n",
        "    data = pd.read_csv(file_path, header=None, delimiter=';')\n",
        "    X, y = data.iloc[:, :-1].values, data.iloc[:, -1].values\n",
        "    \n",
        "    scaler = StandardScaler()\n",
        "    X = scaler.fit_transform(X)\n",
        "\n",
        "    X_train, X_test, y_train, y_test = train_test_split(X, y, test_size=test_size, random_state=10)\n",
        "    return X_train, X_test, y_train, y_test"
      ]
    },
    {
      "cell_type": "markdown",
      "metadata": {},
      "source": [
        "## Pagalbinės funkcijos apskaičiuojančios metrikas"
      ]
    },
    {
      "cell_type": "code",
      "execution_count": 4,
      "metadata": {},
      "outputs": [],
      "source": [
        "# Funkcija kiekvienam testavimo duomenų įrašui nurodyti, kokias klases nustatė neuronas ir kokia turėjo būti.\n",
        "def test_data_evaluation(X_test, y_test, model):\n",
        "    predictions = model.predict(X_test)\n",
        "    print(\"Testavimo duomenų įrašų klasifikacija:\")\n",
        "    for i, (pred, actual) in enumerate(zip(predictions, y_test)):\n",
        "        print(f\"Įrašas {i+1}: Nustatyta klasė = {pred}, Turėjo būti = {actual}\")\n",
        "\n",
        "# Funkcija atliekanti eksperimentą ir apskaičiuojanti visas metrikas\n",
        "def run_experiment(data_file_path, learning_rate, epochs, E_min):\n",
        "    X_train, X_test, y_train, y_test = load_and_split_data(data_file_path)\n",
        "    adaline = AdalineSGD(learning_rate=learning_rate, epochs=epochs)\n",
        "    adaline.fit(X_train, y_train, E_min)\n",
        "\n",
        "    epochs_range = range(1, len(adaline.loss) + 1)\n",
        "    plt.figure(figsize=(12, 6))\n",
        "\n",
        "    plt.subplot(1, 2, 1)\n",
        "    plt.plot(epochs_range, adaline.loss, color='red', label='Paklaida')\n",
        "    plt.xlabel('Epocha')\n",
        "    plt.ylabel('Paklaida')\n",
        "    plt.title(f'Mokymosi greitis: {learning_rate}')\n",
        "    plt.legend()\n",
        "\n",
        "    plt.subplot(1, 2, 2)\n",
        "    plt.plot(epochs_range, adaline.accuracy, color='blue', label='Tikslumas')\n",
        "    plt.xlabel('Epocha')\n",
        "    plt.ylabel('Tikslumas')\n",
        "    plt.title(f'Mokymosi greitis: {learning_rate}')\n",
        "    plt.legend()\n",
        "\n",
        "    plt.tight_layout()\n",
        "    plt.show()\n",
        "\n",
        "    print(f\"Epochų skaičius: {adaline.epochs}\")\n",
        "    print(f\"Svoriai: {adaline.weights}\")\n",
        "    print(f\"Poslinkis: {adaline.bias}\")\n",
        "    print(f\"Mokymo duomenų tikslumas: {adaline.accuracy[-1]}\")\n",
        "    print(f\"Mokymo duomenų paklaida: {adaline.loss[-1]}\")\n",
        "    print(f\"Testavimo duomenų tikslumas: {adaline.calculate_accuracy(X_test, y_test)}\")\n",
        "    print(f\"Testavimo duomenų paklaida: {adaline.calculate_MSE(X_test, y_test)}\")\n",
        "    print(\"\\n\\n\")\n",
        "\n",
        "    test_data_evaluation(X_test, y_test, adaline)"
      ]
    },
    {
      "cell_type": "markdown",
      "metadata": {},
      "source": [
        "## Eksperimentas su irisų duomenimis"
      ]
    },
    {
      "cell_type": "code",
      "execution_count": null,
      "metadata": {},
      "outputs": [],
      "source": [
        "print(\"Eksperimentas su Irisų duomenimis:\")\n",
        "data_file_path = 'formatted_augmented_iris_data.csv'\n",
        "learning_rate = 0.001\n",
        "epochs = 100\n",
        "E_min = 0.01\n",
        "\n",
        "run_experiment(data_file_path, learning_rate, epochs, E_min)"
      ]
    },
    {
      "cell_type": "markdown",
      "metadata": {},
      "source": [
        "## Eksperimentas su krūties vėžio duomenimis"
      ]
    },
    {
      "cell_type": "code",
      "execution_count": null,
      "metadata": {},
      "outputs": [],
      "source": [
        "print(\"Eksperimentas su krūtų vėžio duomenimis:\")\n",
        "data_file_path = 'breast-cancer-data.csv'\n",
        "learning_rate = 0.001\n",
        "epochs = 100\n",
        "E_min = 0.01\n",
        "\n",
        "run_experiment(data_file_path, learning_rate, epochs, E_min)"
      ]
    }
  ],
  "metadata": {
    "colab": {
      "provenance": []
    },
    "kernelspec": {
      "display_name": "Python 3",
      "name": "python3"
    },
    "language_info": {
      "codemirror_mode": {
        "name": "ipython",
        "version": 3
      },
      "file_extension": ".py",
      "mimetype": "text/x-python",
      "name": "python",
      "nbconvert_exporter": "python",
      "pygments_lexer": "ipython3",
      "version": "3.12.2"
    }
  },
  "nbformat": 4,
  "nbformat_minor": 0
}
